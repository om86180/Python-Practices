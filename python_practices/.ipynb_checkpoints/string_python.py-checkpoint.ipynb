{
 "cells": [
  {
   "cell_type": "markdown",
   "metadata": {},
   "source": [
    "# # Python String\n",
    "### Python String area immutable. means you cant change any character of a string or string variable.\n"
   ]
  },
  {
   "cell_type": "markdown",
   "metadata": {},
   "source": [
    "#### String can be a chracter or combination of charcter, numbers special character.\n",
    "\n",
    "##### In python string can be declared between single quotes ' ' or between double quotes. String can also assigned to a variable."
   ]
  },
  {
   "cell_type": "code",
   "execution_count": 1,
   "metadata": {},
   "outputs": [
    {
     "name": "stdout",
     "output_type": "stream",
     "text": [
      "This is a string declared by single quotes\n"
     ]
    }
   ],
   "source": [
    "print('This is a string declared by single quotes')"
   ]
  },
  {
   "cell_type": "code",
   "execution_count": 2,
   "metadata": {},
   "outputs": [
    {
     "name": "stdout",
     "output_type": "stream",
     "text": [
      "This is a string declared by double quotes\n"
     ]
    }
   ],
   "source": [
    "print(\"This is a string declared by double quotes\")"
   ]
  },
  {
   "cell_type": "code",
   "execution_count": 5,
   "metadata": {},
   "outputs": [
    {
     "name": "stdout",
     "output_type": "stream",
     "text": [
      "I am a string. You can write numbers in it also like. 1,2,3 55.55 wow.\n"
     ]
    }
   ],
   "source": [
    "# assigning a string value to a variable called my_str.\n",
    "my_str = 'I am a string. You can write numbers in it also like. 1,2,3 55.55 wow.'\n",
    "# printing the value of my_str\n",
    "print(my_str)"
   ]
  },
  {
   "cell_type": "code",
   "execution_count": 6,
   "metadata": {},
   "outputs": [],
   "source": [
    "# also can assign a empty string variable\n",
    "my_str =''\n",
    "# or\n",
    "my_str1 = str()"
   ]
  },
  {
   "cell_type": "markdown",
   "metadata": {},
   "source": [
    "### Typecast string data type."
   ]
  },
  {
   "cell_type": "code",
   "execution_count": 10,
   "metadata": {},
   "outputs": [
    {
     "name": "stdout",
     "output_type": "stream",
     "text": [
      "<class 'str'>\n",
      "type of name variable is :  <class 'str'>\n"
     ]
    }
   ],
   "source": [
    "# Can check which type is a value is.\n",
    "my_str = ''\n",
    "print(type(my_str))\n",
    "# <class 'str'> it means that my_str variable is a type of string or str class of python.\n",
    "\n",
    "name = 'What is your name?'\n",
    "print('type of name variable is : ', type(name))"
   ]
  },
  {
   "cell_type": "markdown",
   "metadata": {},
   "source": [
    "# Python inbuilt functions for string and others"
   ]
  },
  {
   "cell_type": "markdown",
   "metadata": {},
   "source": [
    "## Len() Function"
   ]
  },
  {
   "cell_type": "code",
   "execution_count": 13,
   "metadata": {},
   "outputs": [
    {
     "name": "stdout",
     "output_type": "stream",
     "text": [
      "18\n",
      "The length of name variable is :  18\n"
     ]
    }
   ],
   "source": [
    "# len function is inbuilt function of python. This function is used to find out the lenght of the data (i.e. string, integer, float, etc.)\n",
    "print(len('My name is Sudipto'))\n",
    "\n",
    "name = 'My name is Sudipto'\n",
    "print('The length of name variable is : ', len(name))\n"
   ]
  },
  {
   "cell_type": "markdown",
   "metadata": {},
   "source": [
    "# How to take an input from user in python?"
   ]
  },
  {
   "cell_type": "code",
   "execution_count": 15,
   "metadata": {},
   "outputs": [
    {
     "name": "stdout",
     "output_type": "stream",
     "text": [
      "What is your name: Sudipto\n"
     ]
    },
    {
     "data": {
      "text/plain": [
       "'Sudipto'"
      ]
     },
     "execution_count": 15,
     "metadata": {},
     "output_type": "execute_result"
    }
   ],
   "source": [
    "input('What is your name: ')"
   ]
  },
  {
   "cell_type": "code",
   "execution_count": 16,
   "metadata": {},
   "outputs": [
    {
     "name": "stdout",
     "output_type": "stream",
     "text": [
      "What is your name: Sudipto Ghosh\n",
      "Hello! Sudipto Ghosh\n"
     ]
    }
   ],
   "source": [
    "# we can store the input value in a variable.\n",
    "name = input('What is your name: ')\n",
    "print('Hello!', name)"
   ]
  },
  {
   "cell_type": "code",
   "execution_count": 18,
   "metadata": {},
   "outputs": [
    {
     "name": "stdout",
     "output_type": "stream",
     "text": [
      "What is your name: sudipto\n",
      "What is your age: 36\n",
      "type of name is :  <class 'str'>\n",
      "type of age is :  <class 'str'>\n"
     ]
    }
   ],
   "source": [
    "# The value we received from an input function of python is always a string type.\n",
    "name = input('What is your name: ')\n",
    "age = input('What is your age: ')\n",
    "print('type of name is : ', type(name))\n",
    "print('type of age is : ', type(age))"
   ]
  },
  {
   "cell_type": "markdown",
   "metadata": {},
   "source": [
    "#### Capitalize() function. This function retrun the first character of the string to upper."
   ]
  },
  {
   "cell_type": "code",
   "execution_count": 24,
   "metadata": {},
   "outputs": [
    {
     "name": "stdout",
     "output_type": "stream",
     "text": [
      "Sudipto ghosh\n",
      "This is a string value. and this is a line.\n",
      "this is a string value. and this is a line.\n"
     ]
    }
   ],
   "source": [
    "print('sudipto ghosh'.capitalize())\n",
    "my_str = 'this is a string value. and this is a line.'\n",
    "print(my_str.capitalize())\n",
    "print(my_str)"
   ]
  },
  {
   "cell_type": "markdown",
   "metadata": {},
   "source": [
    "### upper() function. This function return the string in upper case."
   ]
  },
  {
   "cell_type": "code",
   "execution_count": 26,
   "metadata": {},
   "outputs": [
    {
     "name": "stdout",
     "output_type": "stream",
     "text": [
      "SUDIPTO GHOSH\n",
      "THIS IS A STRING VALUE. AND THIS IS A LINE.\n",
      "this is a string value. and this is a line.\n"
     ]
    }
   ],
   "source": [
    "print('sudipto ghosh'.upper())\n",
    "my_str = 'this is a string value. and this is a line.'\n",
    "print(my_str.upper())\n",
    "print(my_str)"
   ]
  },
  {
   "cell_type": "markdown",
   "metadata": {},
   "source": [
    "### lower() function. This function return the string in lower case."
   ]
  },
  {
   "cell_type": "code",
   "execution_count": 28,
   "metadata": {},
   "outputs": [
    {
     "name": "stdout",
     "output_type": "stream",
     "text": [
      "sudipto ghosh\n",
      "this is a string value. and this is a line.\n",
      "this is a STRING value. and this is a line.\n"
     ]
    }
   ],
   "source": [
    "print('Sudipto GHOSH'.lower())\n",
    "my_str = 'this is a STRING value. and this is a line.'\n",
    "print(my_str.lower())\n",
    "print(my_str)"
   ]
  },
  {
   "cell_type": "markdown",
   "metadata": {},
   "source": [
    "### index() function"
   ]
  },
  {
   "cell_type": "code",
   "execution_count": 36,
   "metadata": {},
   "outputs": [
    {
     "name": "stdout",
     "output_type": "stream",
     "text": [
      "15\n",
      "0\n",
      "11\n"
     ]
    }
   ],
   "source": [
    "# all the strings are index in python which is started from 0 to the total lenght of the string -1 \n",
    "# like when we say 'Sudipto' index of strings are S = 0, u = 1, d=2,i=3,p=4,t=5,o=6 respectively. Where the length of the string is 7\n",
    "# to find a character or words or numbers postion in a string we used index function.\n",
    "\n",
    "my_str = 'Suditpo Ghosh, 36'\n",
    "print(my_str.index('36'))\n",
    "print(my_str.index('S'))\n",
    "print(my_str.index('s'))\n",
    "# print(my_str.index('100'))"
   ]
  },
  {
   "cell_type": "markdown",
   "metadata": {},
   "source": [
    "### strip() , rstrip(), lstrip() function. strip functions basically remove the extra space from right a left side of a string. rstrip is stand for right strip to strip extra space from right side. same the lstrip stands for left strip and remove extra space from left side."
   ]
  },
  {
   "cell_type": "code",
   "execution_count": 40,
   "metadata": {},
   "outputs": [
    {
     "name": "stdout",
     "output_type": "stream",
     "text": [
      "      What a    Spacious Name it     is     \n",
      "What a    Spacious Name it     is\n",
      "      What a    Spacious Name it     is\n",
      "What a    Spacious Name it     is     \n"
     ]
    }
   ],
   "source": [
    "name = '      What a    Spacious Name it     is     '\n",
    "print(name)\n",
    "print(name.strip())\n",
    "print(name.rstrip())\n",
    "print(name.lstrip())"
   ]
  },
  {
   "cell_type": "markdown",
   "metadata": {},
   "source": [
    "### split() function to split the string values in a list data type."
   ]
  },
  {
   "cell_type": "code",
   "execution_count": 51,
   "metadata": {},
   "outputs": [
    {
     "name": "stdout",
     "output_type": "stream",
     "text": [
      "['Sudipto']\n",
      "['Sudipto', 'Ghosh']\n",
      "['1', '2', '3', '4', '5', '6', '7', '8', '9']\n"
     ]
    }
   ],
   "source": [
    "name = 'Sudipto'\n",
    "print(name.split())\n",
    "\n",
    "name = 'Sudipto Ghosh' # when we does not provide any separator for split it will split all word from space.\n",
    "print(name.split())\n",
    "\n",
    "numbers = '1,2,3,4,5,6,7,8,9'\n",
    "print(numbers.split(',',-1))\n",
    "\n",
    "# the syntax for split is (str.split(separator=?,maximum_separation=?)), default value of separator is space and maximum_seperation value is -1 which means maximum try"
   ]
  },
  {
   "cell_type": "markdown",
   "metadata": {},
   "source": [
    "### count() function. It counts the number of occurance of a charcter of words in a string."
   ]
  },
  {
   "cell_type": "code",
   "execution_count": 56,
   "metadata": {},
   "outputs": [
    {
     "name": "stdout",
     "output_type": "stream",
     "text": [
      "1\n",
      "2\n"
     ]
    }
   ],
   "source": [
    "print('sudipto ghosh'.count('sud'))\n",
    "print('sudipto ghosh'.count('s'))"
   ]
  },
  {
   "cell_type": "markdown",
   "metadata": {},
   "source": [
    "### find() function. it find the number of occurance of a character or string first and return its index. and if no strings find then it return the index value -1"
   ]
  },
  {
   "cell_type": "code",
   "execution_count": 59,
   "metadata": {},
   "outputs": [
    {
     "name": "stdout",
     "output_type": "stream",
     "text": [
      "4\n",
      "-1\n"
     ]
    }
   ],
   "source": [
    "print('sudipto ghosh'.find('pto'))\n",
    "print('sudipto ghosh'.find('gupta'))"
   ]
  },
  {
   "cell_type": "markdown",
   "metadata": {},
   "source": [
    "### join() function. The string whose method is called is inserted in between each given string. The result is returned as a new string."
   ]
  },
  {
   "cell_type": "code",
   "execution_count": 68,
   "metadata": {},
   "outputs": [
    {
     "name": "stdout",
     "output_type": "stream",
     "text": [
      "sudipto???ghosh???36\n"
     ]
    }
   ],
   "source": [
    "print('???'.join(['sudipto', 'ghosh','36']))"
   ]
  },
  {
   "cell_type": "markdown",
   "metadata": {},
   "source": [
    "## String slicing"
   ]
  },
  {
   "cell_type": "markdown",
   "metadata": {},
   "source": [
    "### string slicing is very important and powerfull we can use string slicing in more of our programs."
   ]
  },
  {
   "cell_type": "code",
   "execution_count": 69,
   "metadata": {},
   "outputs": [
    {
     "name": "stdout",
     "output_type": "stream",
     "text": [
      "Enter your name : Sudipto\n",
      "length of your name is :  7\n",
      "First four character of your name is:  Sud\n",
      "First four character of your name is:  Sud\n",
      "Your name if read every second char is :  Sdpo\n",
      "reverse of your name is:  otpiduS\n"
     ]
    }
   ],
   "source": [
    "# lets declare a variable name \n",
    "name = input('Enter your name : ')\n",
    "print('length of your name is : ', len(name))\n",
    "print('First four character of your name is: ', name[0:3]) # the 0 is saying to start from first index and 3 is saying that go to fourth index\n",
    "print('First four character of your name is: ', name[0:3:1]) # the last 1 is saying that how to read character 1 says read every character\n",
    "print('Your name if read every second char is : ', name[::2]) # it will read the every second character of the string\n",
    "print('reverse of your name is: ', name[::-1])"
   ]
  },
  {
   "cell_type": "markdown",
   "metadata": {},
   "source": [
    "### Why string is immutable. Like string also int, float is also immutable. means you cant change the value of a string. only can assing new variable"
   ]
  },
  {
   "cell_type": "code",
   "execution_count": 74,
   "metadata": {},
   "outputs": [
    {
     "name": "stdout",
     "output_type": "stream",
     "text": [
      "Kudipto ghosh\n"
     ]
    }
   ],
   "source": [
    "name = 'Sudipto ghosh' # assign name variable\n",
    "# name[0] = 'K' # this line will give error because string is immutable\n",
    "name = str('K'+name[1:]) # we can again assign the variable but not able to change the string in it\n",
    "print(name)"
   ]
  },
  {
   "cell_type": "markdown",
   "metadata": {},
   "source": [
    "### id() function. id function return the memory postion of a variable in system it can be change time to time."
   ]
  },
  {
   "cell_type": "code",
   "execution_count": 78,
   "metadata": {},
   "outputs": [
    {
     "name": "stdout",
     "output_type": "stream",
     "text": [
      "2698350554928\n",
      "2698350752432\n",
      "2698423795888\n"
     ]
    }
   ],
   "source": [
    "print(id('a'))\n",
    "print(id('A'))\n",
    "name = 'Sudipto Ghosh'\n",
    "print(id(name))"
   ]
  },
  {
   "cell_type": "code",
   "execution_count": null,
   "metadata": {},
   "outputs": [],
   "source": []
  }
 ],
 "metadata": {
  "kernelspec": {
   "display_name": "Python 3",
   "language": "python",
   "name": "python3"
  },
  "language_info": {
   "codemirror_mode": {
    "name": "ipython",
    "version": 3
   },
   "file_extension": ".py",
   "mimetype": "text/x-python",
   "name": "python",
   "nbconvert_exporter": "python",
   "pygments_lexer": "ipython3",
   "version": "3.7.4"
  }
 },
 "nbformat": 4,
 "nbformat_minor": 2
}
