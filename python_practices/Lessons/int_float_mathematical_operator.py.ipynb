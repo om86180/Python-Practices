{
 "cells": [
  {
   "cell_type": "markdown",
   "metadata": {},
   "source": [
    "## Integer. In python integer is a numerical value with out decimal point means a round value decimal points to zero."
   ]
  },
  {
   "cell_type": "code",
   "execution_count": 16,
   "metadata": {},
   "outputs": [
    {
     "name": "stdout",
     "output_type": "stream",
     "text": [
      "<class 'int'> <class 'int'> <class 'int'>\n"
     ]
    }
   ],
   "source": [
    "# can define a integer like \n",
    "my_num = 3\n",
    "my_num2 = int(55)\n",
    "\n",
    "## can assign a empty type integer variable\n",
    "my_num3 = int()\n",
    "\n",
    "## typecast integer variable\n",
    "print(type(my_num), type(my_num2), type(my_num3))"
   ]
  },
  {
   "cell_type": "markdown",
   "metadata": {},
   "source": [
    "## Float. Float is a number with decimal point."
   ]
  },
  {
   "cell_type": "code",
   "execution_count": 17,
   "metadata": {},
   "outputs": [
    {
     "name": "stdout",
     "output_type": "stream",
     "text": [
      "<class 'float'> <class 'float'> <class 'float'>\n"
     ]
    }
   ],
   "source": [
    "# can define a float like\n",
    "my_float = 3.00\n",
    "float2 = 1001.200030000\n",
    "\n",
    "## can assigna a empty type float variable\n",
    "float3 = float()\n",
    "\n",
    "## typecast float variable\n",
    "print(type(my_float), type(float2), type(float3))"
   ]
  },
  {
   "cell_type": "markdown",
   "metadata": {},
   "source": [
    "## Mathematical Operations:"
   ]
  },
  {
   "cell_type": "markdown",
   "metadata": {},
   "source": [
    "#### When do any mathematical operations between integer and float data types, result of the new data types would be float."
   ]
  },
  {
   "cell_type": "code",
   "execution_count": 19,
   "metadata": {},
   "outputs": [
    {
     "name": "stdout",
     "output_type": "stream",
     "text": [
      "8.0\n",
      "2.0\n",
      "5.0\n",
      "50.0\n"
     ]
    }
   ],
   "source": [
    "print(3 + 5.00) # (sum)\n",
    "print(10 / 5.00) # (divide)\n",
    "print(10 - 5.00) # (substract)\n",
    "print(10 * 5.00) # (multiply)"
   ]
  },
  {
   "cell_type": "markdown",
   "metadata": {},
   "source": [
    "#### Mathematical operators of python are\n",
    "    +  for addition\n",
    "    -  for substraction\n",
    "    /  for division\n",
    "    *  for multiplication\n",
    "    %  for modulus ( remainder from division)\n",
    "    ** for exponent ( to find power value)"
   ]
  },
  {
   "cell_type": "code",
   "execution_count": 20,
   "metadata": {},
   "outputs": [
    {
     "name": "stdout",
     "output_type": "stream",
     "text": [
      "num1 : 8\n",
      "num1 : 5\n",
      "Sum a + b: 13\n",
      "Sub a - b: 3\n",
      "Div a / b: 1.6\n",
      "Mul a * b: 40\n",
      "Mod a % b: 3\n",
      "Pow a ** b: 32768\n"
     ]
    }
   ],
   "source": [
    "# lets define some steps to clearly understand the mathematical opeartors working with python\n",
    "\n",
    "a = int(input('num1 : ')) # by default input takes string so we change the string value to integer by int() function.\n",
    "b = int(input('num1 : ')) # by default input takes string so we change the string value to integer by int() function.\n",
    "\n",
    "print('Sum a + b:', a+b)\n",
    "print('Sub a - b:', a-b)\n",
    "print('Div a / b:', a/b)\n",
    "print('Mul a * b:', a*b)\n",
    "print('Mod a % b:', a%b)\n",
    "print('Pow a ** b:', a**b)"
   ]
  },
  {
   "cell_type": "code",
   "execution_count": null,
   "metadata": {},
   "outputs": [],
   "source": []
  }
 ],
 "metadata": {
  "kernelspec": {
   "display_name": "Python 3",
   "language": "python",
   "name": "python3"
  },
  "language_info": {
   "codemirror_mode": {
    "name": "ipython",
    "version": 3
   },
   "file_extension": ".py",
   "mimetype": "text/x-python",
   "name": "python",
   "nbconvert_exporter": "python",
   "pygments_lexer": "ipython3",
   "version": "3.7.4"
  }
 },
 "nbformat": 4,
 "nbformat_minor": 2
}
