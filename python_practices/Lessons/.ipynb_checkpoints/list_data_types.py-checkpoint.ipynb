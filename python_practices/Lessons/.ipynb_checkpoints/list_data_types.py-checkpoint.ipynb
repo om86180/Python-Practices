{
 "cells": [
  {
   "cell_type": "markdown",
   "metadata": {},
   "source": [
    "# List : - Python Data Types"
   ]
  },
  {
   "cell_type": "markdown",
   "metadata": {},
   "source": [
    "### List is collection of variables. List is mutable data types, it means you can slice and change value of a list index. List is one kind of array."
   ]
  },
  {
   "cell_type": "markdown",
   "metadata": {},
   "source": [
    "#### List can be write between sqare brackets. values of list must be comma separated. below is the example of list."
   ]
  },
  {
   "cell_type": "code",
   "execution_count": 2,
   "metadata": {},
   "outputs": [
    {
     "name": "stdout",
     "output_type": "stream",
     "text": [
      "<class 'list'>\n"
     ]
    }
   ],
   "source": [
    "numbers = [1,2,3,4,5,6,7,8,9,10]\n",
    "\n",
    "# type casting list variable\n",
    "print(type(numbers))"
   ]
  },
  {
   "cell_type": "markdown",
   "metadata": {},
   "source": [
    "### List slicing. List values stored in index manner, first value store in index 0 and then increased respectively."
   ]
  },
  {
   "cell_type": "code",
   "execution_count": 4,
   "metadata": {},
   "outputs": [
    {
     "name": "stdout",
     "output_type": "stream",
     "text": [
      "1\n",
      "2\n",
      "6\n",
      "7\n",
      "10\n"
     ]
    }
   ],
   "source": [
    "print(numbers[0])\n",
    "print(numbers[1])\n",
    "print(numbers[5])\n",
    "print(numbers[6])\n",
    "print(numbers[9]) # in index number nine value 10 is stored"
   ]
  },
  {
   "cell_type": "markdown",
   "metadata": {},
   "source": [
    "### Inbuilt functions used with list"
   ]
  },
  {
   "cell_type": "code",
   "execution_count": 23,
   "metadata": {},
   "outputs": [
    {
     "name": "stdout",
     "output_type": "stream",
     "text": [
      "length of numbers:  7\n",
      "count of 3 occured in the list:  2\n",
      "afteradd number 8 in the list:  [1, 2, 3, 10, 5, 7, 3, 8]\n",
      "after remove number 2 from the list:  [1, 3, 10, 5, 7, 3, 8]\n",
      "after sort a list:  [1, 3, 3, 5, 7, 8, 10]\n",
      "after sort in reverse order:  [10, 8, 7, 5, 3, 3, 1]\n",
      "list before using insert function:  [10, 8, 7, 5, 3, 3, 1]\n",
      "after insert 25 in index 1:  [10, 25, 8, 7, 5, 3, 3, 1]\n",
      "numbers2 list:  [10, 25, 8, 7, 5, 3, 3, 1]\n",
      "memory position of numbers:  2614834036040\n",
      "memory position of numbers2:  2614832479496\n",
      "after clear list:  []\n"
     ]
    }
   ],
   "source": [
    "numbers = [1,2,3,10,5,7,3]\n",
    "print('length of numbers: ', len(numbers))\n",
    "print('count of 3 occured in the list: ', numbers.count(3))\n",
    "numbers.append(8) # append function used to add something in to list\n",
    "print('afteradd number 8 in the list: ', numbers)\n",
    "# remove a number from list\n",
    "numbers.remove(2) # remove a value from list by remove function\n",
    "print('after remove number 2 from the list: ', numbers)\n",
    "# sort a list\n",
    "numbers.sort()\n",
    "print('after sort a list: ', numbers)\n",
    "\n",
    "# sort in reverse order\n",
    "numbers.sort(reverse=True)\n",
    "print('after sort in reverse order: ', numbers)\n",
    "\n",
    "# let suppose we want to insert value 25 in the second position of the. we need to use insert function\n",
    "print('list before using insert function: ', numbers) # it means we want to insert 25 after 10 and before eight. so right now index value of 8 is 1 and index value of 10 is 0.\n",
    "# now we will insert 25 in index position 1\n",
    "numbers.insert(1,25) # syntax is list.insert(index_position, value)\n",
    "print('after insert 25 in index 1: ', numbers)\n",
    "\n",
    "# copy a list:\n",
    "numbers2 = numbers.copy()\n",
    "print('numbers2 list: ', numbers2)\n",
    "\n",
    "# memory position of both list:\n",
    "print('memory position of numbers: ', id(numbers)) # position of both memory are different, that means numbers2 is complety different that numbers list.\n",
    "print('memory position of numbers2: ', id(numbers2))\n",
    "\n",
    "# To remove all items from a list\n",
    "numbers.clear()\n",
    "print('after clear list: ', numbers) # now numbers is become a blank list"
   ]
  },
  {
   "cell_type": "code",
   "execution_count": 31,
   "metadata": {},
   "outputs": [
    {
     "name": "stdout",
     "output_type": "stream",
     "text": [
      "['apple', 'bannana', 'orange', 'grapes', 'potato', 'onion', 'cabbage', 'beans']\n",
      "[1, 2, 3, 4, 10, 10, 10, 20]\n"
     ]
    },
    {
     "data": {
      "text/plain": [
       "10"
      ]
     },
     "execution_count": 31,
     "metadata": {},
     "output_type": "execute_result"
    }
   ],
   "source": [
    "fruits = ['apple', 'bannana', 'orange', 'grapes']\n",
    "vegitables = ['potato', 'onion', 'cabbage', 'beans']\n",
    "\n",
    "all = fruits + vegitables # concatenate list\n",
    "print(all)\n",
    "\n",
    "list1 = [1,2,3,4]\n",
    "list2 = [10,10,10,20]\n",
    "list3 = list1 + list2 # concatenate list\n",
    "print(list3)\n",
    "sum(list1) # find the sum of a list"
   ]
  },
  {
   "cell_type": "code",
   "execution_count": null,
   "metadata": {},
   "outputs": [],
   "source": []
  }
 ],
 "metadata": {
  "kernelspec": {
   "display_name": "Python 3",
   "language": "python",
   "name": "python3"
  },
  "language_info": {
   "codemirror_mode": {
    "name": "ipython",
    "version": 3
   },
   "file_extension": ".py",
   "mimetype": "text/x-python",
   "name": "python",
   "nbconvert_exporter": "python",
   "pygments_lexer": "ipython3",
   "version": "3.7.4"
  }
 },
 "nbformat": 4,
 "nbformat_minor": 2
}
